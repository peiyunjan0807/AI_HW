{
 "cells": [
  {
   "cell_type": "code",
   "execution_count": 1,
   "id": "87b5e544",
   "metadata": {},
   "outputs": [],
   "source": [
    "# try arff+panda\n",
    "from scipy.io import arff\n",
    "import pandas as pd"
   ]
  },
  {
   "cell_type": "code",
   "execution_count": 2,
   "id": "877fa061",
   "metadata": {
    "scrolled": true
   },
   "outputs": [
    {
     "data": {
      "text/html": [
       "<div>\n",
       "<style scoped>\n",
       "    .dataframe tbody tr th:only-of-type {\n",
       "        vertical-align: middle;\n",
       "    }\n",
       "\n",
       "    .dataframe tbody tr th {\n",
       "        vertical-align: top;\n",
       "    }\n",
       "\n",
       "    .dataframe thead th {\n",
       "        text-align: right;\n",
       "    }\n",
       "</style>\n",
       "<table border=\"1\" class=\"dataframe\">\n",
       "  <thead>\n",
       "    <tr style=\"text-align: right;\">\n",
       "      <th></th>\n",
       "      <th>age</th>\n",
       "      <th>sex</th>\n",
       "      <th>on thyroxine</th>\n",
       "      <th>query on thyroxine</th>\n",
       "      <th>on antithyroid medication</th>\n",
       "      <th>sick</th>\n",
       "      <th>pregnant</th>\n",
       "      <th>thyroid surgery</th>\n",
       "      <th>I131 treatment</th>\n",
       "      <th>query hypothyroid</th>\n",
       "      <th>...</th>\n",
       "      <th>tumor</th>\n",
       "      <th>hypopituitary</th>\n",
       "      <th>psych</th>\n",
       "      <th>TSH</th>\n",
       "      <th>T3</th>\n",
       "      <th>TT4</th>\n",
       "      <th>T4U</th>\n",
       "      <th>FTI</th>\n",
       "      <th>referral source</th>\n",
       "      <th>Class</th>\n",
       "    </tr>\n",
       "  </thead>\n",
       "  <tbody>\n",
       "    <tr>\n",
       "      <th>0</th>\n",
       "      <td>41.0</td>\n",
       "      <td>b'F'</td>\n",
       "      <td>b'f'</td>\n",
       "      <td>b'f'</td>\n",
       "      <td>b'f'</td>\n",
       "      <td>b'f'</td>\n",
       "      <td>b'f'</td>\n",
       "      <td>b'f'</td>\n",
       "      <td>b'f'</td>\n",
       "      <td>b'f'</td>\n",
       "      <td>...</td>\n",
       "      <td>b'f'</td>\n",
       "      <td>b'f'</td>\n",
       "      <td>b'f'</td>\n",
       "      <td>1.30</td>\n",
       "      <td>2.5</td>\n",
       "      <td>125.0</td>\n",
       "      <td>1.14</td>\n",
       "      <td>109.0</td>\n",
       "      <td>b'SVHC'</td>\n",
       "      <td>b'negative'</td>\n",
       "    </tr>\n",
       "    <tr>\n",
       "      <th>1</th>\n",
       "      <td>23.0</td>\n",
       "      <td>b'F'</td>\n",
       "      <td>b'f'</td>\n",
       "      <td>b'f'</td>\n",
       "      <td>b'f'</td>\n",
       "      <td>b'f'</td>\n",
       "      <td>b'f'</td>\n",
       "      <td>b'f'</td>\n",
       "      <td>b'f'</td>\n",
       "      <td>b'f'</td>\n",
       "      <td>...</td>\n",
       "      <td>b'f'</td>\n",
       "      <td>b'f'</td>\n",
       "      <td>b'f'</td>\n",
       "      <td>4.10</td>\n",
       "      <td>2.0</td>\n",
       "      <td>102.0</td>\n",
       "      <td>1.00</td>\n",
       "      <td>106.0</td>\n",
       "      <td>b'other'</td>\n",
       "      <td>b'negative'</td>\n",
       "    </tr>\n",
       "    <tr>\n",
       "      <th>2</th>\n",
       "      <td>46.0</td>\n",
       "      <td>b'M'</td>\n",
       "      <td>b'f'</td>\n",
       "      <td>b'f'</td>\n",
       "      <td>b'f'</td>\n",
       "      <td>b'f'</td>\n",
       "      <td>b'f'</td>\n",
       "      <td>b'f'</td>\n",
       "      <td>b'f'</td>\n",
       "      <td>b'f'</td>\n",
       "      <td>...</td>\n",
       "      <td>b'f'</td>\n",
       "      <td>b'f'</td>\n",
       "      <td>b'f'</td>\n",
       "      <td>0.98</td>\n",
       "      <td>1.7</td>\n",
       "      <td>109.0</td>\n",
       "      <td>0.91</td>\n",
       "      <td>120.0</td>\n",
       "      <td>b'other'</td>\n",
       "      <td>b'negative'</td>\n",
       "    </tr>\n",
       "    <tr>\n",
       "      <th>3</th>\n",
       "      <td>70.0</td>\n",
       "      <td>b'F'</td>\n",
       "      <td>b't'</td>\n",
       "      <td>b'f'</td>\n",
       "      <td>b'f'</td>\n",
       "      <td>b'f'</td>\n",
       "      <td>b'f'</td>\n",
       "      <td>b'f'</td>\n",
       "      <td>b'f'</td>\n",
       "      <td>b'f'</td>\n",
       "      <td>...</td>\n",
       "      <td>b'f'</td>\n",
       "      <td>b'f'</td>\n",
       "      <td>b'f'</td>\n",
       "      <td>0.16</td>\n",
       "      <td>1.9</td>\n",
       "      <td>175.0</td>\n",
       "      <td>1.00</td>\n",
       "      <td>106.0</td>\n",
       "      <td>b'other'</td>\n",
       "      <td>b'negative'</td>\n",
       "    </tr>\n",
       "    <tr>\n",
       "      <th>4</th>\n",
       "      <td>70.0</td>\n",
       "      <td>b'F'</td>\n",
       "      <td>b'f'</td>\n",
       "      <td>b'f'</td>\n",
       "      <td>b'f'</td>\n",
       "      <td>b'f'</td>\n",
       "      <td>b'f'</td>\n",
       "      <td>b'f'</td>\n",
       "      <td>b'f'</td>\n",
       "      <td>b'f'</td>\n",
       "      <td>...</td>\n",
       "      <td>b'f'</td>\n",
       "      <td>b'f'</td>\n",
       "      <td>b'f'</td>\n",
       "      <td>0.72</td>\n",
       "      <td>1.2</td>\n",
       "      <td>61.0</td>\n",
       "      <td>0.87</td>\n",
       "      <td>70.0</td>\n",
       "      <td>b'SVI'</td>\n",
       "      <td>b'negative'</td>\n",
       "    </tr>\n",
       "  </tbody>\n",
       "</table>\n",
       "<p>5 rows × 23 columns</p>\n",
       "</div>"
      ],
      "text/plain": [
       "    age   sex on thyroxine query on thyroxine on antithyroid medication  sick  \\\n",
       "0  41.0  b'F'         b'f'               b'f'                      b'f'  b'f'   \n",
       "1  23.0  b'F'         b'f'               b'f'                      b'f'  b'f'   \n",
       "2  46.0  b'M'         b'f'               b'f'                      b'f'  b'f'   \n",
       "3  70.0  b'F'         b't'               b'f'                      b'f'  b'f'   \n",
       "4  70.0  b'F'         b'f'               b'f'                      b'f'  b'f'   \n",
       "\n",
       "  pregnant thyroid surgery I131 treatment query hypothyroid  ... tumor  \\\n",
       "0     b'f'            b'f'           b'f'              b'f'  ...  b'f'   \n",
       "1     b'f'            b'f'           b'f'              b'f'  ...  b'f'   \n",
       "2     b'f'            b'f'           b'f'              b'f'  ...  b'f'   \n",
       "3     b'f'            b'f'           b'f'              b'f'  ...  b'f'   \n",
       "4     b'f'            b'f'           b'f'              b'f'  ...  b'f'   \n",
       "\n",
       "  hypopituitary psych   TSH   T3    TT4   T4U    FTI  referral source  \\\n",
       "0          b'f'  b'f'  1.30  2.5  125.0  1.14  109.0          b'SVHC'   \n",
       "1          b'f'  b'f'  4.10  2.0  102.0  1.00  106.0         b'other'   \n",
       "2          b'f'  b'f'  0.98  1.7  109.0  0.91  120.0         b'other'   \n",
       "3          b'f'  b'f'  0.16  1.9  175.0  1.00  106.0         b'other'   \n",
       "4          b'f'  b'f'  0.72  1.2   61.0  0.87   70.0           b'SVI'   \n",
       "\n",
       "         Class  \n",
       "0  b'negative'  \n",
       "1  b'negative'  \n",
       "2  b'negative'  \n",
       "3  b'negative'  \n",
       "4  b'negative'  \n",
       "\n",
       "[5 rows x 23 columns]"
      ]
     },
     "execution_count": 2,
     "metadata": {},
     "output_type": "execute_result"
    }
   ],
   "source": [
    "data = arff.loadarff('./hypothyroid_modified_cjlin.arff')\n",
    "df = pd.DataFrame(data[0])\n",
    "df.head()"
   ]
  },
  {
   "cell_type": "code",
   "execution_count": 3,
   "id": "44faa606",
   "metadata": {},
   "outputs": [],
   "source": [
    "filename = \"./hypothyroid_modified_cjlin.txt\" \n",
    "f = open(filename, \"r\", encoding='UTF-8') \n",
    "docText = f.readlines()\n",
    "f.close()\n",
    "dataset_raw = [x.strip(\"\\n\").split(\",\") for x in docText]"
   ]
  },
  {
   "cell_type": "code",
   "execution_count": 4,
   "id": "65b0781a",
   "metadata": {},
   "outputs": [],
   "source": [
    "from sklearn.preprocessing import OneHotEncoder, OrdinalEncoder\n",
    "ht_enc = OneHotEncoder(handle_unknown='ignore')\n",
    "rd_enc = OrdinalEncoder()"
   ]
  },
  {
   "cell_type": "code",
   "execution_count": 5,
   "id": "53395549",
   "metadata": {},
   "outputs": [],
   "source": [
    "import numpy as np"
   ]
  },
  {
   "cell_type": "code",
   "execution_count": 6,
   "id": "f2802ea6",
   "metadata": {},
   "outputs": [
    {
     "data": {
      "text/plain": [
       "dtype('float64')"
      ]
     },
     "execution_count": 6,
     "metadata": {},
     "output_type": "execute_result"
    }
   ],
   "source": [
    "feature_bool=[]\n",
    "for i in range(2,16):\n",
    "    feature_bool_raw = [[x[i]]for x in dataset_raw]\n",
    "    rd_enc.fit([['t'], ['f']])\n",
    "    feature_bool.append(rd_enc.transform(feature_bool_raw))\n",
    "feature_bool[1].dtype"
   ]
  },
  {
   "cell_type": "code",
   "execution_count": 7,
   "id": "19064b19",
   "metadata": {},
   "outputs": [
    {
     "data": {
      "text/plain": [
       "dtype('float64')"
      ]
     },
     "execution_count": 7,
     "metadata": {},
     "output_type": "execute_result"
    }
   ],
   "source": [
    "feature_sex_raw = np.array([[x[1]] for x in dataset_raw])\n",
    "rd_enc.fit([['F'], ['M']])\n",
    "feature_sex = rd_enc.transform(feature_sex_raw)\n",
    "feature_sex.dtype"
   ]
  },
  {
   "cell_type": "code",
   "execution_count": 8,
   "id": "de1a7049",
   "metadata": {},
   "outputs": [
    {
     "data": {
      "text/plain": [
       "dtype('float64')"
      ]
     },
     "execution_count": 8,
     "metadata": {},
     "output_type": "execute_result"
    }
   ],
   "source": [
    "feature_referral_raw = np.array([[x[21]] for x in dataset_raw])\n",
    "rd_enc.fit([['SVHC'], ['other'], ['SVI'], ['STMW'], ['SVHD']])\n",
    "feature_referral = rd_enc.transform(feature_referral_raw)\n",
    "feature_referral.dtype"
   ]
  },
  {
   "cell_type": "code",
   "execution_count": 9,
   "id": "d047f4f1",
   "metadata": {},
   "outputs": [
    {
     "data": {
      "text/plain": [
       "dtype('float64')"
      ]
     },
     "execution_count": 9,
     "metadata": {},
     "output_type": "execute_result"
    }
   ],
   "source": [
    "feature_Class_raw = np.array([[x[22]] for x in dataset_raw])\n",
    "rd_enc.fit([['negative'], ['compensated_hypothyroid'], ['primary_hypothyroid'], ['secondary_hypothyroid']])\n",
    "feature_Class = rd_enc.transform(feature_Class_raw)\n",
    "feature_Class.dtype"
   ]
  },
  {
   "cell_type": "code",
   "execution_count": 10,
   "id": "a3e78a92",
   "metadata": {},
   "outputs": [
    {
     "data": {
      "text/plain": [
       "array([[ 41.  ,   0.  ,   0.  ,   0.  ,   0.  ,   0.  ,   0.  ,   0.  ,\n",
       "          0.  ,   0.  ,   0.  ,   0.  ,   0.  ,   0.  ,   0.  ,   0.  ,\n",
       "          1.3 ,   2.5 ,   1.3 ,   1.14, 109.  ,   1.  ],\n",
       "       [ 23.  ,   0.  ,   0.  ,   0.  ,   0.  ,   0.  ,   0.  ,   0.  ,\n",
       "          0.  ,   0.  ,   0.  ,   0.  ,   0.  ,   0.  ,   0.  ,   0.  ,\n",
       "          4.1 ,   2.  ,   4.1 ,   1.  , 106.  ,   4.  ],\n",
       "       [ 46.  ,   1.  ,   0.  ,   0.  ,   0.  ,   0.  ,   0.  ,   0.  ,\n",
       "          0.  ,   0.  ,   0.  ,   0.  ,   0.  ,   0.  ,   0.  ,   0.  ,\n",
       "          0.98,   1.7 ,   0.98,   0.91, 120.  ,   4.  ],\n",
       "       [ 70.  ,   0.  ,   1.  ,   0.  ,   0.  ,   0.  ,   0.  ,   0.  ,\n",
       "          0.  ,   0.  ,   0.  ,   0.  ,   0.  ,   0.  ,   0.  ,   0.  ,\n",
       "          0.16,   1.9 ,   0.16,   1.  , 106.  ,   4.  ],\n",
       "       [ 70.  ,   0.  ,   0.  ,   0.  ,   0.  ,   0.  ,   0.  ,   0.  ,\n",
       "          0.  ,   0.  ,   0.  ,   0.  ,   0.  ,   0.  ,   0.  ,   0.  ,\n",
       "          0.72,   1.2 ,   0.72,   0.87,  70.  ,   3.  ]])"
      ]
     },
     "execution_count": 10,
     "metadata": {},
     "output_type": "execute_result"
    }
   ],
   "source": [
    "feature_0=np.array([[x[0]] for x in dataset_raw],dtype=int)\n",
    "feature_16=np.array([[x[16]] for x in dataset_raw],dtype=float)\n",
    "feature_17=np.array([[x[17]] for x in dataset_raw],dtype=float)\n",
    "feature_18=np.array([[x[18]] for x in dataset_raw],dtype=float)\n",
    "feature_19=np.array([[x[19]] for x in dataset_raw],dtype=float)\n",
    "feature_20=np.array([[x[20]] for x in dataset_raw],dtype=float)\n",
    "x_features = np.concatenate((feature_0,feature_sex,feature_bool[0],feature_bool[1],feature_bool[2],feature_bool[3],feature_bool[4],feature_bool[5],feature_bool[6],\n",
    "                             feature_bool[7],feature_bool[8],feature_bool[9],feature_bool[10],feature_bool[11],feature_bool[12],feature_bool[13],\n",
    "                             feature_16,feature_17,feature_16,feature_19,feature_20,feature_referral), axis=1)\n",
    "x_features[:5]"
   ]
  },
  {
   "cell_type": "code",
   "execution_count": 11,
   "id": "8f26c3cf",
   "metadata": {},
   "outputs": [
    {
     "data": {
      "text/plain": [
       "array([1., 1., 1., ..., 1., 1., 1.])"
      ]
     },
     "execution_count": 11,
     "metadata": {},
     "output_type": "execute_result"
    }
   ],
   "source": [
    "y_label = feature_Class.ravel()\n",
    "y_label"
   ]
  },
  {
   "cell_type": "code",
   "execution_count": 12,
   "id": "a9710e6e",
   "metadata": {},
   "outputs": [
    {
     "data": {
      "text/plain": [
       "1.0"
      ]
     },
     "execution_count": 12,
     "metadata": {},
     "output_type": "execute_result"
    }
   ],
   "source": [
    "from sklearn import tree\n",
    "clf = tree.DecisionTreeClassifier()\n",
    "clf.fit(x_features, y_label)\n",
    "y_predict = clf.predict(x_features) # should be new test data, different from the training data\n",
    "from sklearn.metrics import accuracy_score\n",
    "accuracy_score(y_predict, y_label)"
   ]
  },
  {
   "cell_type": "code",
   "execution_count": 13,
   "id": "0cf2cf1d",
   "metadata": {},
   "outputs": [
    {
     "data": {
      "text/plain": [
       "1.0"
      ]
     },
     "execution_count": 13,
     "metadata": {},
     "output_type": "execute_result"
    }
   ],
   "source": [
    "from sklearn.ensemble import RandomForestClassifier\n",
    "clf = RandomForestClassifier(random_state=0)\n",
    "clf.fit(x_features, y_label)\n",
    "y_predict = clf.predict(x_features) # should be new test data, different from the training data\n",
    "accuracy_score(y_predict, y_label)"
   ]
  },
  {
   "cell_type": "code",
   "execution_count": 14,
   "id": "645abdd7",
   "metadata": {},
   "outputs": [],
   "source": [
    "from sklearn.model_selection import train_test_split\n",
    "x_train, x_test, y_train, y_test = train_test_split(x_features, y_label, test_size=0.2, random_state=42)"
   ]
  },
  {
   "cell_type": "code",
   "execution_count": 15,
   "id": "6494d4ea",
   "metadata": {},
   "outputs": [
    {
     "data": {
      "text/plain": [
       "0.9955882352941177"
      ]
     },
     "execution_count": 15,
     "metadata": {},
     "output_type": "execute_result"
    }
   ],
   "source": [
    "clf_decision = tree.DecisionTreeClassifier()\n",
    "clf_decision.fit(x_train, y_train) # training step\n",
    "y_predict = clf_decision.predict(x_test) # evaluation\n",
    "accuracy_score(y_predict, y_test)"
   ]
  },
  {
   "cell_type": "code",
   "execution_count": 16,
   "id": "d9d3b873",
   "metadata": {},
   "outputs": [
    {
     "data": {
      "text/plain": [
       "0.9941176470588236"
      ]
     },
     "execution_count": 16,
     "metadata": {},
     "output_type": "execute_result"
    }
   ],
   "source": [
    "clf_rand_forest = RandomForestClassifier(random_state=0)\n",
    "clf_rand_forest.fit(x_train, y_train)\n",
    "y_predict = clf_rand_forest.predict(x_test)\n",
    "accuracy_score(y_predict, y_test)"
   ]
  },
  {
   "cell_type": "code",
   "execution_count": 17,
   "id": "1d39502a",
   "metadata": {},
   "outputs": [
    {
     "data": {
      "text/plain": [
       "0.9602941176470589"
      ]
     },
     "execution_count": 17,
     "metadata": {},
     "output_type": "execute_result"
    }
   ],
   "source": [
    "from sklearn import svm\n",
    "clf_svm = svm.SVC()\n",
    "clf_svm.fit(x_train, y_train)\n",
    "y_predict = clf_svm.predict(x_test)\n",
    "accuracy_score(y_predict, y_test)"
   ]
  },
  {
   "cell_type": "code",
   "execution_count": 18,
   "id": "4a7ed404",
   "metadata": {},
   "outputs": [],
   "source": [
    "import tensorflow as tf\n",
    "def model_nn():\n",
    "    model  = tf.keras.models.Sequential()\n",
    "    model.add(tf.keras.layers.Input((22)))\n",
    "    model.add(tf.keras.layers.Dense(44,activation='relu'))\n",
    "    model.add(tf.keras.layers.Dense(44,activation='relu'))\n",
    "    model.add(tf.keras.layers.Dense(4,activation='softmax'))\n",
    "    model.compile(loss='sparse_categorical_crossentropy',optimizer='adam',metrics=['accuracy'])\n",
    "    return model"
   ]
  },
  {
   "cell_type": "code",
   "execution_count": 19,
   "id": "91c3f236",
   "metadata": {},
   "outputs": [
    {
     "name": "stdout",
     "output_type": "stream",
     "text": [
      "Model: \"sequential\"\n",
      "_________________________________________________________________\n",
      " Layer (type)                Output Shape              Param #   \n",
      "=================================================================\n",
      " dense (Dense)               (None, 44)                1012      \n",
      "                                                                 \n",
      " dense_1 (Dense)             (None, 44)                1980      \n",
      "                                                                 \n",
      " dense_2 (Dense)             (None, 4)                 180       \n",
      "                                                                 \n",
      "=================================================================\n",
      "Total params: 3,172\n",
      "Trainable params: 3,172\n",
      "Non-trainable params: 0\n",
      "_________________________________________________________________\n"
     ]
    }
   ],
   "source": [
    "model = model_nn()\n",
    "model.summary()"
   ]
  },
  {
   "cell_type": "code",
   "execution_count": 20,
   "id": "53652425",
   "metadata": {},
   "outputs": [
    {
     "name": "stdout",
     "output_type": "stream",
     "text": [
      "Epoch 1/10\n",
      "85/85 [==============================] - 1s 2ms/step - loss: 6.3966 - accuracy: 0.7572\n",
      "Epoch 2/10\n",
      "85/85 [==============================] - 0s 2ms/step - loss: 0.2517 - accuracy: 0.9386\n",
      "Epoch 3/10\n",
      "85/85 [==============================] - 0s 2ms/step - loss: 0.1940 - accuracy: 0.9430\n",
      "Epoch 4/10\n",
      "85/85 [==============================] - 0s 2ms/step - loss: 0.1657 - accuracy: 0.9474\n",
      "Epoch 5/10\n",
      "85/85 [==============================] - 0s 2ms/step - loss: 0.1701 - accuracy: 0.9467\n",
      "Epoch 6/10\n",
      "85/85 [==============================] - 0s 2ms/step - loss: 0.1475 - accuracy: 0.9544\n",
      "Epoch 7/10\n",
      "85/85 [==============================] - 0s 2ms/step - loss: 0.1394 - accuracy: 0.9544\n",
      "Epoch 8/10\n",
      "85/85 [==============================] - 0s 2ms/step - loss: 0.1508 - accuracy: 0.9507\n",
      "Epoch 9/10\n",
      "85/85 [==============================] - 0s 2ms/step - loss: 0.1241 - accuracy: 0.9599\n",
      "Epoch 10/10\n",
      "85/85 [==============================] - 0s 2ms/step - loss: 0.1207 - accuracy: 0.9603\n"
     ]
    }
   ],
   "source": [
    "history = model.fit(x_train,y_train,epochs=10)"
   ]
  },
  {
   "cell_type": "code",
   "execution_count": 21,
   "id": "05e63f89",
   "metadata": {},
   "outputs": [
    {
     "name": "stdout",
     "output_type": "stream",
     "text": [
      "22/22 [==============================] - 0s 2ms/step - loss: 0.0829 - accuracy: 0.9676\n"
     ]
    },
    {
     "data": {
      "text/plain": [
       "0.9676470756530762"
      ]
     },
     "execution_count": 21,
     "metadata": {},
     "output_type": "execute_result"
    }
   ],
   "source": [
    "accuracy=model.evaluate(x_test, y_test)\n",
    "accuracy[1]"
   ]
  },
  {
   "cell_type": "code",
   "execution_count": null,
   "id": "c5b4c2c0",
   "metadata": {},
   "outputs": [],
   "source": []
  }
 ],
 "metadata": {
  "kernelspec": {
   "display_name": "Python 3 (ipykernel)",
   "language": "python",
   "name": "python3"
  },
  "language_info": {
   "codemirror_mode": {
    "name": "ipython",
    "version": 3
   },
   "file_extension": ".py",
   "mimetype": "text/x-python",
   "name": "python",
   "nbconvert_exporter": "python",
   "pygments_lexer": "ipython3",
   "version": "3.9.12"
  }
 },
 "nbformat": 4,
 "nbformat_minor": 5
}
